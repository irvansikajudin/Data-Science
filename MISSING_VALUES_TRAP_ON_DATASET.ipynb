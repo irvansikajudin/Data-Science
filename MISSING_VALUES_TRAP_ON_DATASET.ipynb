{
  "nbformat": 4,
  "nbformat_minor": 0,
  "metadata": {
    "colab": {
      "name": "MISSING VALUES TRAP ON DATASET",
      "provenance": [],
      "authorship_tag": "ABX9TyMYbUx5uGSCsj8LKrYBlsqF",
      "include_colab_link": true
    },
    "kernelspec": {
      "name": "python3",
      "display_name": "Python 3"
    },
    "language_info": {
      "name": "python"
    }
  },
  "cells": [
    {
      "cell_type": "markdown",
      "metadata": {
        "id": "view-in-github",
        "colab_type": "text"
      },
      "source": [
        "<a href=\"https://colab.research.google.com/github/irvansikajudin/Data-Science/blob/main/MISSING_VALUES_TRAP_ON_DATASET.ipynb\" target=\"_parent\"><img src=\"https://colab.research.google.com/assets/colab-badge.svg\" alt=\"Open In Colab\"/></a>"
      ]
    },
    {
      "cell_type": "markdown",
      "source": [
        "# **MISSING VALUES TRAP ON DATASET**"
      ],
      "metadata": {
        "id": "yR2op90ezGdE"
      }
    },
    {
      "cell_type": "markdown",
      "source": [
        "cara yang paling simple untuk menumukan missing values dengan cara \n",
        "\n",
        "```\n",
        "# .isnull().sum()\n",
        "```\n",
        "tapi hal tersebut terkadan membuat kita tidak dapat menemukan nilai yang hilang secara komprehensif, untuk menangani hal tersebut dapat menggunakan code sebagai berikut : \n",
        "\n",
        "```\n",
        "missing_values = ['n/a', 'na', 'nan', '-', '--', 'null', ' ']\n",
        "medv.isnull().sum()\n",
        "```\n",
        "penjelasan :\n",
        "['n/a', 'na', 'nan', '-', '--', 'null', ' '] adalah missing values, namun kita juga dapat menambahkan values tertentu kembali.\n",
        "\n",
        "\n",
        "\n"
      ],
      "metadata": {
        "id": "o31oXEIazKzk"
      }
    },
    {
      "cell_type": "markdown",
      "source": [
        "kita mendefinisikan nilai-nilai tertentu sebagai missing values:\n",
        "\n",
        "\n",
        "```\n",
        "# missing_values = ['n/a', 'na', 'nan', '-', '--', 'null', ' ']\n",
        "```\n",
        "kemusian baru menjalankan perintah \n",
        "\n",
        "```\n",
        "# .isnull().sum()\n",
        "```\n",
        "\n",
        "\n",
        "\n"
      ],
      "metadata": {
        "id": "HYA54qhj0FP-"
      }
    },
    {
      "cell_type": "markdown",
      "source": [
        ""
      ],
      "metadata": {
        "id": "_Od7mWoA0Bae"
      }
    }
  ]
}